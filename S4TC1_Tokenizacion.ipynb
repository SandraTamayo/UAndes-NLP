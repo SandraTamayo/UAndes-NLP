{
  "cells": [
    {
      "cell_type": "markdown",
      "metadata": {
        "id": "jvNdrME-UVlt"
      },
      "source": [
        "![image info](https://raw.githubusercontent.com/albahnsen/MIAD_ML_and_NLP/main/images/banner_1.png)"
      ]
    },
    {
      "cell_type": "markdown",
      "metadata": {
        "id": "BPxHiOp7UVly"
      },
      "source": [
        "# Taller: Tokenización de textos  \n",
        "\n",
        "En este taller podrán poner en práctica sus conocimientos sobre preprocesamiento de texto (tokenización). El taller está constituido por 5 puntos, en los cuales deberan seguir las intrucciones de cada numeral para su desarrollo."
      ]
    },
    {
      "cell_type": "markdown",
      "metadata": {
        "id": "oKVZwAIrUVlz"
      },
      "source": [
        "## Datos detección de toxicidad en comentarios\n",
        "\n",
        "En este taller se usará el conjunto de datos de detección de toxicidad en comentarios de la base de datos de Kaggle. Cada observación es un comentario que tiene como variable objetivo (target) la probabilidad de ser un comentario tóxico. El objetivo es predecir la toxicidad de cada comentario. Para más detalles pueden visitar el siguiente enlace: [datos](https://www.kaggle.com/c/jigsaw-unintended-bias-in-toxicity-classification/data)."
      ]
    },
    {
      "cell_type": "code",
      "execution_count": null,
      "metadata": {
        "id": "Eb1BMVOKUVl0"
      },
      "outputs": [],
      "source": [
        "import warnings\n",
        "warnings.filterwarnings('ignore')"
      ]
    },
    {
      "cell_type": "code",
      "execution_count": null,
      "metadata": {
        "id": "GxMz85QPUVl2"
      },
      "outputs": [],
      "source": [
        "# Importación librerías\n",
        "import pandas as pd\n",
        "import numpy as np\n",
        "import scipy as sp\n",
        "from sklearn.model_selection import train_test_split, cross_val_score\n",
        "from sklearn.feature_extraction.text import CountVectorizer, TfidfVectorizer\n",
        "from sklearn import metrics\n",
        "%matplotlib inline\n",
        "from sklearn.linear_model import LogisticRegression\n",
        "from sklearn.metrics import mean_squared_error\n",
        "import matplotlib.pyplot as plt\n",
        "from sklearn.metrics import accuracy_score, roc_auc_score"
      ]
    },
    {
      "cell_type": "code",
      "execution_count": null,
      "metadata": {
        "colab": {
          "base_uri": "https://localhost:8080/",
          "height": 363
        },
        "id": "DweRx6vmUVl3",
        "outputId": "a12a21e7-efb6-4a53-e0cb-2d89bc09249d"
      },
      "outputs": [
        {
          "output_type": "execute_result",
          "data": {
            "text/plain": [
              "        id                                       comment_text    target\n",
              "0  6101457  What are you talking about? What group do Pete...  0.000000\n",
              "1  5342103   NO!, Let him, we need a Conservative government.  0.000000\n",
              "2   743361  Perhaps he took the \"power out of the Cardinal...  0.200000\n",
              "3   551008  As always, yours is dripping with sarcasm, whi...  0.000000\n",
              "4   865998  The dirty little secret is that the price rang...  0.300000\n",
              "5  5790966  Light gets bent by gravity.  However, it isn't...  0.000000\n",
              "6  5241987  This is a bad joke, we rewrite history every t...  0.000000\n",
              "7  6116383  If some homeless actually live peacefully toge...  0.000000\n",
              "8   653122                                   Thanks.  I will.  0.166667\n",
              "9  5439407  Okay.....Should we not be investigating Eric H...  0.500000"
            ],
            "text/html": [
              "\n",
              "  <div id=\"df-ac4ce6e8-33be-4c79-86b8-5cf4430e4abd\">\n",
              "    <div class=\"colab-df-container\">\n",
              "      <div>\n",
              "<style scoped>\n",
              "    .dataframe tbody tr th:only-of-type {\n",
              "        vertical-align: middle;\n",
              "    }\n",
              "\n",
              "    .dataframe tbody tr th {\n",
              "        vertical-align: top;\n",
              "    }\n",
              "\n",
              "    .dataframe thead th {\n",
              "        text-align: right;\n",
              "    }\n",
              "</style>\n",
              "<table border=\"1\" class=\"dataframe\">\n",
              "  <thead>\n",
              "    <tr style=\"text-align: right;\">\n",
              "      <th></th>\n",
              "      <th>id</th>\n",
              "      <th>comment_text</th>\n",
              "      <th>target</th>\n",
              "    </tr>\n",
              "  </thead>\n",
              "  <tbody>\n",
              "    <tr>\n",
              "      <th>0</th>\n",
              "      <td>6101457</td>\n",
              "      <td>What are you talking about? What group do Pete...</td>\n",
              "      <td>0.000000</td>\n",
              "    </tr>\n",
              "    <tr>\n",
              "      <th>1</th>\n",
              "      <td>5342103</td>\n",
              "      <td>NO!, Let him, we need a Conservative government.</td>\n",
              "      <td>0.000000</td>\n",
              "    </tr>\n",
              "    <tr>\n",
              "      <th>2</th>\n",
              "      <td>743361</td>\n",
              "      <td>Perhaps he took the \"power out of the Cardinal...</td>\n",
              "      <td>0.200000</td>\n",
              "    </tr>\n",
              "    <tr>\n",
              "      <th>3</th>\n",
              "      <td>551008</td>\n",
              "      <td>As always, yours is dripping with sarcasm, whi...</td>\n",
              "      <td>0.000000</td>\n",
              "    </tr>\n",
              "    <tr>\n",
              "      <th>4</th>\n",
              "      <td>865998</td>\n",
              "      <td>The dirty little secret is that the price rang...</td>\n",
              "      <td>0.300000</td>\n",
              "    </tr>\n",
              "    <tr>\n",
              "      <th>5</th>\n",
              "      <td>5790966</td>\n",
              "      <td>Light gets bent by gravity.  However, it isn't...</td>\n",
              "      <td>0.000000</td>\n",
              "    </tr>\n",
              "    <tr>\n",
              "      <th>6</th>\n",
              "      <td>5241987</td>\n",
              "      <td>This is a bad joke, we rewrite history every t...</td>\n",
              "      <td>0.000000</td>\n",
              "    </tr>\n",
              "    <tr>\n",
              "      <th>7</th>\n",
              "      <td>6116383</td>\n",
              "      <td>If some homeless actually live peacefully toge...</td>\n",
              "      <td>0.000000</td>\n",
              "    </tr>\n",
              "    <tr>\n",
              "      <th>8</th>\n",
              "      <td>653122</td>\n",
              "      <td>Thanks.  I will.</td>\n",
              "      <td>0.166667</td>\n",
              "    </tr>\n",
              "    <tr>\n",
              "      <th>9</th>\n",
              "      <td>5439407</td>\n",
              "      <td>Okay.....Should we not be investigating Eric H...</td>\n",
              "      <td>0.500000</td>\n",
              "    </tr>\n",
              "  </tbody>\n",
              "</table>\n",
              "</div>\n",
              "      <button class=\"colab-df-convert\" onclick=\"convertToInteractive('df-ac4ce6e8-33be-4c79-86b8-5cf4430e4abd')\"\n",
              "              title=\"Convert this dataframe to an interactive table.\"\n",
              "              style=\"display:none;\">\n",
              "        \n",
              "  <svg xmlns=\"http://www.w3.org/2000/svg\" height=\"24px\"viewBox=\"0 0 24 24\"\n",
              "       width=\"24px\">\n",
              "    <path d=\"M0 0h24v24H0V0z\" fill=\"none\"/>\n",
              "    <path d=\"M18.56 5.44l.94 2.06.94-2.06 2.06-.94-2.06-.94-.94-2.06-.94 2.06-2.06.94zm-11 1L8.5 8.5l.94-2.06 2.06-.94-2.06-.94L8.5 2.5l-.94 2.06-2.06.94zm10 10l.94 2.06.94-2.06 2.06-.94-2.06-.94-.94-2.06-.94 2.06-2.06.94z\"/><path d=\"M17.41 7.96l-1.37-1.37c-.4-.4-.92-.59-1.43-.59-.52 0-1.04.2-1.43.59L10.3 9.45l-7.72 7.72c-.78.78-.78 2.05 0 2.83L4 21.41c.39.39.9.59 1.41.59.51 0 1.02-.2 1.41-.59l7.78-7.78 2.81-2.81c.8-.78.8-2.07 0-2.86zM5.41 20L4 18.59l7.72-7.72 1.47 1.35L5.41 20z\"/>\n",
              "  </svg>\n",
              "      </button>\n",
              "      \n",
              "  <style>\n",
              "    .colab-df-container {\n",
              "      display:flex;\n",
              "      flex-wrap:wrap;\n",
              "      gap: 12px;\n",
              "    }\n",
              "\n",
              "    .colab-df-convert {\n",
              "      background-color: #E8F0FE;\n",
              "      border: none;\n",
              "      border-radius: 50%;\n",
              "      cursor: pointer;\n",
              "      display: none;\n",
              "      fill: #1967D2;\n",
              "      height: 32px;\n",
              "      padding: 0 0 0 0;\n",
              "      width: 32px;\n",
              "    }\n",
              "\n",
              "    .colab-df-convert:hover {\n",
              "      background-color: #E2EBFA;\n",
              "      box-shadow: 0px 1px 2px rgba(60, 64, 67, 0.3), 0px 1px 3px 1px rgba(60, 64, 67, 0.15);\n",
              "      fill: #174EA6;\n",
              "    }\n",
              "\n",
              "    [theme=dark] .colab-df-convert {\n",
              "      background-color: #3B4455;\n",
              "      fill: #D2E3FC;\n",
              "    }\n",
              "\n",
              "    [theme=dark] .colab-df-convert:hover {\n",
              "      background-color: #434B5C;\n",
              "      box-shadow: 0px 1px 3px 1px rgba(0, 0, 0, 0.15);\n",
              "      filter: drop-shadow(0px 1px 2px rgba(0, 0, 0, 0.3));\n",
              "      fill: #FFFFFF;\n",
              "    }\n",
              "  </style>\n",
              "\n",
              "      <script>\n",
              "        const buttonEl =\n",
              "          document.querySelector('#df-ac4ce6e8-33be-4c79-86b8-5cf4430e4abd button.colab-df-convert');\n",
              "        buttonEl.style.display =\n",
              "          google.colab.kernel.accessAllowed ? 'block' : 'none';\n",
              "\n",
              "        async function convertToInteractive(key) {\n",
              "          const element = document.querySelector('#df-ac4ce6e8-33be-4c79-86b8-5cf4430e4abd');\n",
              "          const dataTable =\n",
              "            await google.colab.kernel.invokeFunction('convertToInteractive',\n",
              "                                                     [key], {});\n",
              "          if (!dataTable) return;\n",
              "\n",
              "          const docLinkHtml = 'Like what you see? Visit the ' +\n",
              "            '<a target=\"_blank\" href=https://colab.research.google.com/notebooks/data_table.ipynb>data table notebook</a>'\n",
              "            + ' to learn more about interactive tables.';\n",
              "          element.innerHTML = '';\n",
              "          dataTable['output_type'] = 'display_data';\n",
              "          await google.colab.output.renderOutput(dataTable, element);\n",
              "          const docLink = document.createElement('div');\n",
              "          docLink.innerHTML = docLinkHtml;\n",
              "          element.appendChild(docLink);\n",
              "        }\n",
              "      </script>\n",
              "    </div>\n",
              "  </div>\n",
              "  "
            ]
          },
          "metadata": {},
          "execution_count": 21
        }
      ],
      "source": [
        "# Carga de datos de archivos .csv\n",
        "df = pd.read_csv('https://raw.githubusercontent.com/albahnsen/MIAD_ML_and_NLP/main/datasets/Toxicity.zip')\n",
        "df = df[['id','comment_text', 'target']]\n",
        "df.head(10)"
      ]
    },
    {
      "cell_type": "code",
      "source": [
        "df.shape"
      ],
      "metadata": {
        "colab": {
          "base_uri": "https://localhost:8080/"
        },
        "id": "gXDhS_LFVcmf",
        "outputId": "14bc604a-8d11-43a9-cc3b-430f8f1ee319"
      },
      "execution_count": null,
      "outputs": [
        {
          "output_type": "execute_result",
          "data": {
            "text/plain": [
              "(541462, 3)"
            ]
          },
          "metadata": {},
          "execution_count": 22
        }
      ]
    },
    {
      "cell_type": "code",
      "source": [
        "# Filtrar las filas donde el valor en la columna 'target' es mayor que 0.5\n",
        "filtered_data = df[df['target'] > 0.5]\n",
        "\n",
        "# Mostrar las columnas 'id', 'comment_text' y 'target'\n",
        "result = filtered_data[['id', 'comment_text', 'target']]\n",
        "result.head()"
      ],
      "metadata": {
        "colab": {
          "base_uri": "https://localhost:8080/",
          "height": 206
        },
        "id": "GnuxlCOTa9qX",
        "outputId": "207c9d1c-91f8-4f14-b290-b112fd38b45e"
      },
      "execution_count": null,
      "outputs": [
        {
          "output_type": "execute_result",
          "data": {
            "text/plain": [
              "          id                                       comment_text    target\n",
              "13   5303644  You don't care whether Alaska educates its chi...  0.906250\n",
              "17    916947  Ah, Barney is racist' eh Alceste. Your name ca...  0.600000\n",
              "135   485567  The shooter was a black cop and the felon was ...  0.825000\n",
              "142  5558118  Just build Harpo's firewall and let Montana ha...  0.623188\n",
              "199  6018073  B.S.  Taking a knee disrespects everyone who d...  1.000000"
            ],
            "text/html": [
              "\n",
              "  <div id=\"df-c08e22f4-35e5-447c-9c23-cd14b972b747\">\n",
              "    <div class=\"colab-df-container\">\n",
              "      <div>\n",
              "<style scoped>\n",
              "    .dataframe tbody tr th:only-of-type {\n",
              "        vertical-align: middle;\n",
              "    }\n",
              "\n",
              "    .dataframe tbody tr th {\n",
              "        vertical-align: top;\n",
              "    }\n",
              "\n",
              "    .dataframe thead th {\n",
              "        text-align: right;\n",
              "    }\n",
              "</style>\n",
              "<table border=\"1\" class=\"dataframe\">\n",
              "  <thead>\n",
              "    <tr style=\"text-align: right;\">\n",
              "      <th></th>\n",
              "      <th>id</th>\n",
              "      <th>comment_text</th>\n",
              "      <th>target</th>\n",
              "    </tr>\n",
              "  </thead>\n",
              "  <tbody>\n",
              "    <tr>\n",
              "      <th>13</th>\n",
              "      <td>5303644</td>\n",
              "      <td>You don't care whether Alaska educates its chi...</td>\n",
              "      <td>0.906250</td>\n",
              "    </tr>\n",
              "    <tr>\n",
              "      <th>17</th>\n",
              "      <td>916947</td>\n",
              "      <td>Ah, Barney is racist' eh Alceste. Your name ca...</td>\n",
              "      <td>0.600000</td>\n",
              "    </tr>\n",
              "    <tr>\n",
              "      <th>135</th>\n",
              "      <td>485567</td>\n",
              "      <td>The shooter was a black cop and the felon was ...</td>\n",
              "      <td>0.825000</td>\n",
              "    </tr>\n",
              "    <tr>\n",
              "      <th>142</th>\n",
              "      <td>5558118</td>\n",
              "      <td>Just build Harpo's firewall and let Montana ha...</td>\n",
              "      <td>0.623188</td>\n",
              "    </tr>\n",
              "    <tr>\n",
              "      <th>199</th>\n",
              "      <td>6018073</td>\n",
              "      <td>B.S.  Taking a knee disrespects everyone who d...</td>\n",
              "      <td>1.000000</td>\n",
              "    </tr>\n",
              "  </tbody>\n",
              "</table>\n",
              "</div>\n",
              "      <button class=\"colab-df-convert\" onclick=\"convertToInteractive('df-c08e22f4-35e5-447c-9c23-cd14b972b747')\"\n",
              "              title=\"Convert this dataframe to an interactive table.\"\n",
              "              style=\"display:none;\">\n",
              "        \n",
              "  <svg xmlns=\"http://www.w3.org/2000/svg\" height=\"24px\"viewBox=\"0 0 24 24\"\n",
              "       width=\"24px\">\n",
              "    <path d=\"M0 0h24v24H0V0z\" fill=\"none\"/>\n",
              "    <path d=\"M18.56 5.44l.94 2.06.94-2.06 2.06-.94-2.06-.94-.94-2.06-.94 2.06-2.06.94zm-11 1L8.5 8.5l.94-2.06 2.06-.94-2.06-.94L8.5 2.5l-.94 2.06-2.06.94zm10 10l.94 2.06.94-2.06 2.06-.94-2.06-.94-.94-2.06-.94 2.06-2.06.94z\"/><path d=\"M17.41 7.96l-1.37-1.37c-.4-.4-.92-.59-1.43-.59-.52 0-1.04.2-1.43.59L10.3 9.45l-7.72 7.72c-.78.78-.78 2.05 0 2.83L4 21.41c.39.39.9.59 1.41.59.51 0 1.02-.2 1.41-.59l7.78-7.78 2.81-2.81c.8-.78.8-2.07 0-2.86zM5.41 20L4 18.59l7.72-7.72 1.47 1.35L5.41 20z\"/>\n",
              "  </svg>\n",
              "      </button>\n",
              "      \n",
              "  <style>\n",
              "    .colab-df-container {\n",
              "      display:flex;\n",
              "      flex-wrap:wrap;\n",
              "      gap: 12px;\n",
              "    }\n",
              "\n",
              "    .colab-df-convert {\n",
              "      background-color: #E8F0FE;\n",
              "      border: none;\n",
              "      border-radius: 50%;\n",
              "      cursor: pointer;\n",
              "      display: none;\n",
              "      fill: #1967D2;\n",
              "      height: 32px;\n",
              "      padding: 0 0 0 0;\n",
              "      width: 32px;\n",
              "    }\n",
              "\n",
              "    .colab-df-convert:hover {\n",
              "      background-color: #E2EBFA;\n",
              "      box-shadow: 0px 1px 2px rgba(60, 64, 67, 0.3), 0px 1px 3px 1px rgba(60, 64, 67, 0.15);\n",
              "      fill: #174EA6;\n",
              "    }\n",
              "\n",
              "    [theme=dark] .colab-df-convert {\n",
              "      background-color: #3B4455;\n",
              "      fill: #D2E3FC;\n",
              "    }\n",
              "\n",
              "    [theme=dark] .colab-df-convert:hover {\n",
              "      background-color: #434B5C;\n",
              "      box-shadow: 0px 1px 3px 1px rgba(0, 0, 0, 0.15);\n",
              "      filter: drop-shadow(0px 1px 2px rgba(0, 0, 0, 0.3));\n",
              "      fill: #FFFFFF;\n",
              "    }\n",
              "  </style>\n",
              "\n",
              "      <script>\n",
              "        const buttonEl =\n",
              "          document.querySelector('#df-c08e22f4-35e5-447c-9c23-cd14b972b747 button.colab-df-convert');\n",
              "        buttonEl.style.display =\n",
              "          google.colab.kernel.accessAllowed ? 'block' : 'none';\n",
              "\n",
              "        async function convertToInteractive(key) {\n",
              "          const element = document.querySelector('#df-c08e22f4-35e5-447c-9c23-cd14b972b747');\n",
              "          const dataTable =\n",
              "            await google.colab.kernel.invokeFunction('convertToInteractive',\n",
              "                                                     [key], {});\n",
              "          if (!dataTable) return;\n",
              "\n",
              "          const docLinkHtml = 'Like what you see? Visit the ' +\n",
              "            '<a target=\"_blank\" href=https://colab.research.google.com/notebooks/data_table.ipynb>data table notebook</a>'\n",
              "            + ' to learn more about interactive tables.';\n",
              "          element.innerHTML = '';\n",
              "          dataTable['output_type'] = 'display_data';\n",
              "          await google.colab.output.renderOutput(dataTable, element);\n",
              "          const docLink = document.createElement('div');\n",
              "          docLink.innerHTML = docLinkHtml;\n",
              "          element.appendChild(docLink);\n",
              "        }\n",
              "      </script>\n",
              "    </div>\n",
              "  </div>\n",
              "  "
            ]
          },
          "metadata": {},
          "execution_count": 23
        }
      ]
    },
    {
      "cell_type": "code",
      "execution_count": null,
      "metadata": {
        "colab": {
          "base_uri": "https://localhost:8080/",
          "height": 447
        },
        "id": "Dv73UB1mUVl4",
        "outputId": "67408eb1-4f7a-4800-af2e-51d525240c2a"
      },
      "outputs": [
        {
          "output_type": "execute_result",
          "data": {
            "text/plain": [
              "<Axes: >"
            ]
          },
          "metadata": {},
          "execution_count": 24
        },
        {
          "output_type": "display_data",
          "data": {
            "text/plain": [
              "<Figure size 640x480 with 1 Axes>"
            ],
            "image/png": "[encoded data removed]"
          },
          "metadata": {}
        }
      ],
      "source": [
        "# Impresión histograma de variable de interés (y)\n",
        "df.target.hist()"
      ]
    },
    {
      "cell_type": "code",
      "execution_count": null,
      "metadata": {
        "colab": {
          "base_uri": "https://localhost:8080/"
        },
        "id": "t2yVgahRUVl5",
        "outputId": "95699d75-5721-4a64-f750-0cd89bdd625e"
      },
      "outputs": [
        {
          "output_type": "execute_result",
          "data": {
            "text/plain": [
              "count    541462.000000\n",
              "mean          0.102991\n",
              "std           0.196979\n",
              "min           0.000000\n",
              "25%           0.000000\n",
              "50%           0.000000\n",
              "75%           0.166667\n",
              "max           1.000000\n",
              "Name: target, dtype: float64"
            ]
          },
          "metadata": {},
          "execution_count": 25
        }
      ],
      "source": [
        "# Separación de variable de interés (y)\n",
        "y = df.target\n",
        "y.describe()"
      ]
    },
    {
      "cell_type": "code",
      "source": [
        "y"
      ],
      "metadata": {
        "colab": {
          "base_uri": "https://localhost:8080/"
        },
        "id": "Sosuw1YgVlpm",
        "outputId": "56b205a5-f295-4293-cc7b-d806b06b0ad3"
      },
      "execution_count": null,
      "outputs": [
        {
          "output_type": "execute_result",
          "data": {
            "text/plain": [
              "0         0.000000\n",
              "1         0.000000\n",
              "2         0.200000\n",
              "3         0.000000\n",
              "4         0.300000\n",
              "            ...   \n",
              "541457    0.000000\n",
              "541458    0.200000\n",
              "541459    0.000000\n",
              "541460    0.000000\n",
              "541461    0.514286\n",
              "Name: target, Length: 541462, dtype: float64"
            ]
          },
          "metadata": {},
          "execution_count": 26
        }
      ]
    },
    {
      "cell_type": "code",
      "execution_count": null,
      "metadata": {
        "id": "Q5N-PkxmUVl6"
      },
      "outputs": [],
      "source": [
        "# Separación de variables predictoras (X), solo se considera el texto de la noticia\n",
        "X = df.comment_text"
      ]
    },
    {
      "cell_type": "code",
      "source": [
        "X"
      ],
      "metadata": {
        "colab": {
          "base_uri": "https://localhost:8080/"
        },
        "id": "rU1txob8VuQH",
        "outputId": "a7cec54b-0ee0-48c5-b70d-86c7867665a4"
      },
      "execution_count": null,
      "outputs": [
        {
          "output_type": "execute_result",
          "data": {
            "text/plain": [
              "0         What are you talking about? What group do Pete...\n",
              "1          NO!, Let him, we need a Conservative government.\n",
              "2         Perhaps he took the \"power out of the Cardinal...\n",
              "3         As always, yours is dripping with sarcasm, whi...\n",
              "4         The dirty little secret is that the price rang...\n",
              "                                ...                        \n",
              "541457    You wrote: \"Both parties campaigned explicitly...\n",
              "541458    Nowadays. there sure seem to be a lot of credi...\n",
              "541459    We are lucky wealth filters down to the poor i...\n",
              "541460    You are half right. Both nature and humans can...\n",
              "541461    I don't know how you went from yelling at a fo...\n",
              "Name: comment_text, Length: 541462, dtype: object"
            ]
          },
          "metadata": {},
          "execution_count": 28
        }
      ]
    },
    {
      "cell_type": "code",
      "execution_count": null,
      "metadata": {
        "id": "MydNPHSZUVl6"
      },
      "outputs": [],
      "source": [
        "# Separación de datos en set de entrenamiento y test\n",
        "X_train, X_test, y_train, y_test = train_test_split(X, y, test_size=0.33, random_state=42)"
      ]
    },
    {
      "cell_type": "code",
      "source": [
        "#Para comparar las métricas de cada modelo\n",
        "\n",
        "MSE = {}\n",
        "Accuracy = {}\n",
        "AUC = {}"
      ],
      "metadata": {
        "id": "R1ML19-7YBov"
      },
      "execution_count": null,
      "outputs": []
    },
    {
      "cell_type": "code",
      "source": [
        "#\"target\" tiene valores continuos en lugar de etiquetas discretas (0 y 1)\n",
        "#Se necesita convertir en etiquetas antes de entrenar el modelo\n",
        "#Se aplica un umbral para convertir la columna \"target\" en clases binarias (0 y 1)\n",
        "#Para la evaluación, los ejemplos de conjuntos de prueba con se considerarán en la clase positiva (tóxico). comment_texttargettargettarget >= 0.5\n",
        "\n",
        "# Convierta la columna \"target\" en clases binarias: 1 -> es toxico y 0 -> no toxico\n",
        "y_train_binary = (y_train >= 0.5).astype(int)\n",
        "y_test_binary = (y_test >= 0.5).astype(int)"
      ],
      "metadata": {
        "id": "b1q5EmT0ZQGs"
      },
      "execution_count": null,
      "outputs": []
    },
    {
      "cell_type": "markdown",
      "metadata": {
        "id": "5J-WPHnZUVl7"
      },
      "source": [
        "## Punto 1 - Tokenización con CountVectorizer\n",
        "\n",
        "En la celda 1 creen y entrenen el modelo de regresión de su preferencia, para que prediga la probabilidad de que un comentario sea tóxico, usando los set de entrenamiento y test definidos anteriormente. Usen la función **CountVectorizer** para preprocesar los comentarios y presenten el desempeño del modelo con la métrica del MSE.\n",
        "\n",
        "Recuerden que el preprocesamiento que se haga sobre los datos de entrenamiento  (*.fit_transform()*) deben ser aplicado al set de test (*.transform()*)."
      ]
    },
    {
      "cell_type": "markdown",
      "source": [
        "#### La función **CountVectorizer** toma una colección de texto y crea un vocabulario de palabras conocidas, luego codifica cada documento de texto como un vector numérico en función de la frecuencia de las palabras en el documento."
      ],
      "metadata": {
        "id": "0IC4GrFYdHGR"
      }
    },
    {
      "cell_type": "code",
      "execution_count": null,
      "metadata": {
        "colab": {
          "base_uri": "https://localhost:8080/"
        },
        "id": "2C7SwXaCUVl7",
        "outputId": "e0afa08a-0744-4e33-e3f3-f7570e730a23"
      },
      "outputs": [
        {
          "output_type": "stream",
          "name": "stdout",
          "text": [
            "MSE: 0.05787903717757145\n"
          ]
        }
      ],
      "source": [
        "# Celda 1\n",
        "# Crear el objeto CountVectorizer y ajuste a los datos de entrenamiento\n",
        "vectorizer = CountVectorizer()\n",
        "X_train_vectorized = vectorizer.fit_transform(X_train)\n",
        "\n",
        "# Transformar los datos de prueba con el vectorizador ajustado\n",
        "X_test_vectorized = vectorizer.transform(X_test)\n",
        "\n",
        "# Crear el modelo de regresión logística y entrene con los datos de entrenamiento vectorizados\n",
        "logreg = LogisticRegression()\n",
        "logreg.fit(X_train_vectorized, y_train_binary)\n",
        "\n",
        "# Predicciones en el conjunto de prueba\n",
        "y_pred = logreg.predict(X_test_vectorized)\n",
        "\n",
        "# Calcule el error cuadrático medio\n",
        "MSECountVect = mean_squared_error(y_test_binary, y_pred)\n",
        "print(\"MSE:\", MSECountVect)\n",
        "#Arreglo para acumular las medidas para comparar al final\n",
        "MSE['Mod CountVect'] = MSECountVect"
      ]
    },
    {
      "cell_type": "code",
      "source": [
        "# Calcular la precisión (accuracy)\n",
        "accuracy = accuracy_score(y_test_binary, y_pred)\n",
        "print(\"Accuracy: \", accuracy)\n",
        "Accuracy['Mod CountVect'] = accuracy\n",
        "\n",
        "\n",
        "# Calcular el AUC-ROC\n",
        "probabilities = logreg.predict_proba(X_test_vectorized)\n",
        "auc = roc_auc_score(y_test_binary, probabilities[:, 1])\n",
        "print(\"AUC-ROC es: \", auc)\n",
        "AUC['Mod CountVect'] = auc\n"
      ],
      "metadata": {
        "colab": {
          "base_uri": "https://localhost:8080/"
        },
        "id": "oSSeckuM98LJ",
        "outputId": "275e19c3-d2f3-473f-9a12-42229390262e"
      },
      "execution_count": null,
      "outputs": [
        {
          "output_type": "stream",
          "name": "stdout",
          "text": [
            "Accuracy:  0.9421209628224285\n",
            "AUC-ROC es:  0.9059357792437206\n"
          ]
        }
      ]
    },
    {
      "cell_type": "markdown",
      "source": [
        "### *Observaciones*:\n",
        "- un MSE de 0.0579 sugiere que el modelo tiene un rendimiento razonablemente bueno en la clasificación de comentarios tóxicos en el conjunto de datos de prueba"
      ],
      "metadata": {
        "id": "m6a9KSPxcRfG"
      }
    },
    {
      "cell_type": "markdown",
      "metadata": {
        "id": "_wR1damgUVl8"
      },
      "source": [
        "## Punto 2 - Tokenización con CountVectorizer y trigramas\n",
        "\n",
        "En la celda 2 creen y entrenen el mismo modelo de regresión del punto anterior (es decir si usaron un RandomForestRegresor usen nuevamente ese regresor), para que prediga la probabilidad de que un comentario sea tóxico, usando los set de entrenamiento y test definidos anteriormente. Usen la función CountVectorizer **considerando trigramas** para preprocesar los comentarios y presenten el desempeño del modelo con la métrica del MSE.\n",
        "\n",
        "Recuerden que el preprocesamiento que se haga sobre los datos de entrenamiento  (*.fit_transform()*) deben ser aplicado al set de test (*.transform()*)."
      ]
    },
    {
      "cell_type": "code",
      "execution_count": null,
      "metadata": {
        "id": "xPSPtLWYUVl8",
        "colab": {
          "base_uri": "https://localhost:8080/"
        },
        "outputId": "5170a414-223e-4f6d-c3c2-a85a9a7542c1"
      },
      "outputs": [
        {
          "output_type": "stream",
          "name": "stdout",
          "text": [
            "MSE_Trigrama es: 0.0787763805174527\n"
          ]
        }
      ],
      "source": [
        "# Celda 2\n",
        "\n",
        "# Crear el objeto CountVectorizer y ajuste a los datos de entrenamiento\n",
        "vectorizer_trig = CountVectorizer(ngram_range=(3, 3))\n",
        "X_train_vectorized_trig = vectorizer_trig.fit_transform(X_train)\n",
        "#362.770 y 1.0546378\n",
        "\n",
        "\n",
        "# Transformar los datos de prueba con el vectorizador ajustado\n",
        "\n",
        "X_test_vectorized_trig = vectorizer_trig.transform(X_test)\n",
        "\n",
        "# Crear el modelo de regresión logística y entrene con los datos de entrenamiento vectorizados\n",
        "logreg_trig = LogisticRegression()\n",
        "logreg_trig.fit(X_train_vectorized_trig, y_train_binary)\n",
        "\n",
        "# Predicciones en el conjunto de prueba\n",
        "y_pred_trig = logreg_trig.predict(X_test_vectorized_trig)\n",
        "\n",
        "# Calcule el error cuadrático medio\n",
        "MSECountVect_trig = mean_squared_error(y_test_binary, y_pred_trig)\n",
        "print(\"MSE_Trigrama es:\", MSECountVect_trig)\n",
        "#Arreglo para acumular las medidas para comparar al final\n",
        "MSE['Mod Trigrama'] = MSECountVect_trig"
      ]
    },
    {
      "cell_type": "code",
      "source": [
        "# Calcular la precisión (accuracy)\n",
        "accuracy_trig = accuracy_score(y_test_binary, y_pred_trig)\n",
        "print(\"Accuracy_Trigrama es: \", accuracy_trig)\n",
        "Accuracy['Mod Trigrama'] = accuracy_trig\n",
        "\n",
        "\n",
        "# Calcular el AUC-ROC\n",
        "probabilities_trig = logreg_trig.predict_proba(X_test_vectorized_trig)\n",
        "auc_trig = roc_auc_score(y_test_binary, probabilities_trig[:, 1])\n",
        "print(\"AUC-ROC es: \", auc_trig)\n",
        "AUC['Mod Trigrama'] = auc_trig\n",
        "\n",
        "\n"
      ],
      "metadata": {
        "colab": {
          "base_uri": "https://localhost:8080/"
        },
        "id": "iBvmM5w89_Di",
        "outputId": "4aee0f42-102d-475d-daef-5df0af20f1fe"
      },
      "execution_count": null,
      "outputs": [
        {
          "output_type": "stream",
          "name": "stdout",
          "text": [
            "Accuracy_Trigrama es:  0.9212236194825473\n",
            "AUC-ROC es:  0.6952459942936833\n"
          ]
        }
      ]
    },
    {
      "cell_type": "markdown",
      "source": [
        "A pesar de que podemos evidenciar que el accuracy del modelo con un trigrama es alto con un 0,92%, el AUC es de tan dolo un 0,69, es decir, que el modelo no esta clasificando muy bien cuando un comentario es Tóxico o no. "
      ],
      "metadata": {
        "id": "UG5J1CH8uJgM"
      }
    },
    {
      "cell_type": "markdown",
      "metadata": {
        "id": "3uUKf6xPUVmB"
      },
      "source": [
        "## Punto 3 - TfidfVectorizer\n",
        "\n",
        "Investigen sobre la función TfidfVectorizer. En la celda de texto 3, expliquen en qué consiste esta técnica de tokenización (describanla y expliquen su funcionamiento) y cúales son las ventajas o deventajas de su uso al compararlo con la función CountVectorizer."
      ]
    },
    {
      "cell_type": "markdown",
      "source": [
        "#Funcionalidad de TfidfVectorizer\n",
        "Es una herramienta de procesamiento de lenguaje natural que se utiliza para convertir un corpus de texto (conjunto completo de documentos de texto) en una matriz de términos-documentos. Utiliza un esquema de ponderación conocido como TF-IDF (Term Frequency-Inverse Document Frequency), que es una medida estadística que refleja la importancia de una palabra en función de la frecuencia de aparición y la frecuencia inversa de documento.\n",
        "\n",
        "La frecuencia de aparición se refiere al número de veces que una palabra aparece en un documento, mientras que la frecuencia inversa de documento es una medida de que tan común es la palabra en todo el corpus. En resumen, la función TfidfVectorizer da más peso a las palabras que aparecen con frecuencia en un documento específico pero son poco frecuentes en todo el corpus.\n",
        "\n",
        "Como resultado se obtine una matriz de términos-documentos que contiene una fila para cada documento del corpus y una columna para cada palabra distinta y cada celda de la matriz representa la importancia de esa palabra en ese documento específico.\n",
        "\n",
        "Vale agregar que TfidfVectorizer es muy útil en tareas de clasificación, ya es muy bueno identificando palabras clave.\n",
        "\n",
        "En cuanto a las ventajas y desventajas de TfidfVectorizer en comparación con CountVectorizer, se debe destacar que cada uno es pertinente dependiendo de el problema a solucionar y de la estructura de los datos a analizar. Un ejemplo de lo anterior es cuando se quiere dar peso a las palabras por su frecuencia (eg. midiendo tendencias), para esto TfidfVectorizer no sería la elección adecuada ya que le da menos importancia a palabras frecuentes en general. \n",
        "\n",
        "En cuanto a la comparación con CountVectorizer a continuación se listan las ventajas y desventajas: \n",
        "\n",
        "#Ventajas de TfidfVectorizer:\n",
        "\n",
        "- A diferencia de CountVectorizer cuenta la frecuencia de las palabras en todo el corpus, tiene en cuenta la frecuencia de aparición de las palabras en un documento y su frecuencia inversa en todo el corpus, lo que significa que las palabras más importantes en un documento tienen un mayor peso en la matriz de términos-documentos.\n",
        "- Le da menos peso a las palabras que aparecen con frecuencia en todo el corpus, como los artículos o las preposiciones, que no suelen ser muy útiles.\n",
        "- Permite identificar con mayor precisión las palabras clave que caracterizan un documento.\n",
        "\n",
        "#Desventajas de TfidfVectorizer:\n",
        "\n",
        "- Puede tener problemas con términos raros o poco frecuentes y darles demasiada importancia en la matriz de términos-documentos.\n",
        "- No tiene en cuenta la proximidad entre las palabras en un documento, lo que es importante para la comprensión del texto como un todo.\n",
        "- En cuanto a rendimiento, es más lento y requiere más recursos computacionales debido a la mayor complejidad del cálculo de los pesos.\n"
      ],
      "metadata": {
        "id": "N-Essmh3hFY7"
      }
    },
    {
      "cell_type": "markdown",
      "metadata": {
        "id": "EGwpkulDUVmB"
      },
      "source": [
        "## Punto 4 - Tokenización con TfidfVectorizer\n",
        "\n",
        "En la celda 4 creen y entrenen el mismo modelo de regresión del primer punto, para que prediga la probabilidad de que un comentario sea tóxico, usando los set de entrenamiento y test definidos anteriormente. Procesen los comentarios con la función **TfidfVectorizer** y presenten el desempeño del modelo con la métrica del MSE.\n",
        "\n",
        "Recuerden que el preprocesamiento que se haga sobre los datos de entrenamiento  (*.fit_transform()*) deben ser aplicado al set de test (*.transform()*)."
      ]
    },
    {
      "cell_type": "code",
      "execution_count": null,
      "metadata": {
        "id": "Ie9aAcwxUVmC",
        "colab": {
          "base_uri": "https://localhost:8080/"
        },
        "outputId": "1d91d6da-aa0d-4d3c-bd1f-7b05839485b8"
      },
      "outputs": [
        {
          "output_type": "stream",
          "name": "stdout",
          "text": [
            "MSE: 0.056686981973662856\n"
          ]
        }
      ],
      "source": [
        "# Celda 4\n",
        "# Crear el vectorizador Tfidf\n",
        "vectorizer = TfidfVectorizer()\n",
        "\n",
        "# Ajustar y transformar los datos de entrenamiento con el vectorizador Tfidf\n",
        "X_train_vectorized_tif = vectorizer.fit_transform(X_train)\n",
        "\n",
        "# Transformar los datos de prueba con el vectorizador Tfidf ajustado\n",
        "X_test_vectorized_tif = vectorizer.transform(X_test)\n",
        "\n",
        "# Crear el modelo de regresión logística y entrenar con los datos de entrenamiento vectorizados\n",
        "logreg_tif = LogisticRegression()\n",
        "logreg_tif.fit(X_train_vectorized_tif, y_train_binary)\n",
        "\n",
        "# Predicciones en el conjunto de prueba\n",
        "y_pred_tif = logreg_tif.predict(X_test_vectorized_tif)\n",
        "\n",
        "# Calcular el error cuadrático medio\n",
        "MSETfidf = mean_squared_error(y_test_binary, y_pred_tif)\n",
        "print(\"MSE:\", MSETfidf)\n",
        "\n",
        "# Agregar la medida de error al diccionario para comparar con otras medidas\n",
        "MSE['Mod Tfidf'] = MSETfidf"
      ]
    },
    {
      "cell_type": "code",
      "source": [
        "accuracy_tif = accuracy_score(y_test_binary, y_pred_tif)\n",
        "print(\"Accuracy Tfidfvectorizer: \", accuracy_tif)\n",
        "Accuracy['Mod Tfidf'] = accuracy_tif\n",
        "\n",
        "\n",
        "# Calcular el AUC-ROC\n",
        "probabilities_tif = logreg_tif.predict_proba(X_test_vectorized_tif)\n",
        "auc_tif = roc_auc_score(y_test_binary, probabilities_tif[:, 1])\n",
        "print(\"AUC-ROC es: \", auc_tif)\n",
        "AUC['Mod Tfidf'] = auc_tif"
      ],
      "metadata": {
        "colab": {
          "base_uri": "https://localhost:8080/"
        },
        "id": "_ZkoO1KOLyEs",
        "outputId": "d03751ad-ea56-40f8-862b-e8b39491ae37"
      },
      "execution_count": null,
      "outputs": [
        {
          "output_type": "stream",
          "name": "stdout",
          "text": [
            "Accuracy Tfidfvectorizer:  0.9433130180263372\n",
            "AUC-ROC es:  0.9377447460057425\n"
          ]
        }
      ]
    },
    {
      "cell_type": "markdown",
      "metadata": {
        "id": "6WDolO5yUVmC"
      },
      "source": [
        "## Punto 5 - Comparación y análisis de resultados\n",
        "\n",
        "En la celda 5 comparen los resultados obtenidos de los diferentes modelos y comenten cómo el preprocesamiento de texto afecta el desempeño."
      ]
    },
    {
      "cell_type": "markdown",
      "source": [
        "##**La métrica del error cuadrático medio (MSE)**\n",
        "##un MSE más bajo indica un mejor rendimiento del modelo, ya que las diferencias entre las predicciones y los valores reales son menores. Un MSE ##de 0 implicaría predicciones perfectas"
      ],
      "metadata": {
        "id": "dQdxWb7JegRf"
      }
    },
    {
      "cell_type": "code",
      "execution_count": null,
      "metadata": {
        "colab": {
          "base_uri": "https://localhost:8080/",
          "height": 482
        },
        "id": "hHEU2ghLUVmC",
        "outputId": "856f76de-5db6-4620-c927-3e6588446868"
      },
      "outputs": [
        {
          "output_type": "display_data",
          "data": {
            "text/plain": [
              "<Figure size 1600x400 with 1 Axes>"
            ],
            "image/png": "[encoded data removed]"
          },
          "metadata": {}
        }
      ],
      "source": [
        "# Celda 5\n",
        "plt.figure(figsize=(16,4))\n",
        "plt.bar(MSE.keys(),MSE.values() )\n",
        "plt.ylabel('$Mse$')\n",
        "plt.title('Model Comparison')\n",
        "plt.grid()\n",
        "  \n",
        "def add_labels(x,y):\n",
        "    for i in range(len(x)):\n",
        "        plt.text(i, y[i]+ 0.002, round(y[i],3), ha = 'center')\n",
        "        plt.xticks(rotation=90)\n",
        "\n",
        "add_labels(MSE.keys(),list(MSE.values())) "
      ]
    },
    {
      "cell_type": "markdown",
      "source": [
        "###**Conclusiones: **\n",
        "\n",
        "En este caso para predecir si un comentario es Toxico o no el modelo de TfidfVectorizer es ligeramente mejor que el CountVectorizer y al de CountVectorizer con trigramas. \n",
        "\n",
        "Con respecto a las métricas:\n",
        "\n",
        "- Cuando se compara el MSE de TfidfVectorizer de 0.05664, es ligeramente inferior que el de CountVectorizer de 0.05787, es decir que tiene un mejor desempeño en su predicción. Ambos modelos son muy superiores al compararlos con el modelo CountVectorizer con trigramas, que obtuvo un MSE de 0.07877. \n",
        "\n",
        "- Para confirmar o desvirtuar este resultado las métricas de Accuracy y AUC, muestran que sigue siendo mejor el modelo de TfidfVectorizer frente a CountVectorizer, y CountVectorizer y trigramas.\n",
        "\n",
        "- Con respecto al accuracy el modelo TIF muestran un valor ligeramente superior de 0.9433 frente a un Accuracy de CountVectorizer de 0.9421 y CountVectorizer con trigramas de 0.9212.\n",
        "\n",
        "- Al observar el AUC, estos valores son muy similires entre los modelos TfidVectorizer y CountVectorizer, al presentar resultados de 0.9377 y 0.9059 respectivamente y muy superior al de CountVectorizer con trigramas que registro un AUC de 0.6952.\n",
        "\n",
        "- Aunque el desempeño de acuerdo a las métricas es levemente superior por parte del modelo TfidfVectorizer frente al CountVectorizer, y muy superior al de CountVectorizer con trigramas. Para que estos resultados sean contundentes, es necesario realizar un mayor número de pruebas y evaluar los modelos de TfidVectorizer y CountVectorizer con otros conjuntos de datos."
      ],
      "metadata": {
        "id": "fX31IG8IL5eZ"
      }
    }
  ],
  "metadata": {
    "kernelspec": {
      "display_name": "Python 3 (ipykernel)",
      "language": "python",
      "name": "python3"
    },
    "language_info": {
      "codemirror_mode": {
        "name": "ipython",
        "version": 3
      },
      "file_extension": ".py",
      "mimetype": "text/x-python",
      "name": "python",
      "nbconvert_exporter": "python",
      "pygments_lexer": "ipython3",
      "version": "3.9.12"
    },
    "name": "_merged",
    "colab": {
      "provenance": []
    }
  },
  "nbformat": 4,
  "nbformat_minor": 0
}