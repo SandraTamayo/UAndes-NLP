{
  "cells": [
    {
      "cell_type": "markdown",
      "metadata": {
        "id": "vC_N0Vhzwagl"
      },
      "source": [
        "![image info](https://raw.githubusercontent.com/albahnsen/MIAD_ML_and_NLP/main/images/banner_1.png)"
      ]
    },
    {
      "cell_type": "markdown",
      "metadata": {
        "id": "Bl3vEKwmwagv"
      },
      "source": [
        "# Taller: Análisis de sentimientos y técnicas de NLP\n",
        "\n",
        "En este taller podrán poner en práctica sus conocimientos sobre las diferentes técnicas para el procesamiento de lenguaje natural. El taller está constituido por 5 puntos, en los cuales deberan seguir las intrucciones de cada numeral para su desarrollo."
      ]
    },
    {
      "cell_type": "markdown",
      "metadata": {
        "id": "oEPXVAe_wagx"
      },
      "source": [
        "## Datos predicción sentimientos de viajeros en Twitter\n",
        "\n",
        "En este taller se usará el conjunto de datos de sentimientos sobre distintas aerolíneas de EE.UU. provenientes de Twitter. Cada observación contiene si el sentimiento de los tweets es positivo, neutral o negativo teniendo en cuenta distintas variables como aerolínea y las razones de los sentimientos negativos (como \"retraso en el vuelo\" o \"servicio grosero\"). El objetivo es predecir el sentimiento asociado a cada tweet. Para más detalles pueden visitar el siguiente enlace: [datos](https://www.kaggle.com/crowdflower/twitter-airline-sentiment)."
      ]
    },
    {
      "cell_type": "code",
      "execution_count": null,
      "metadata": {
        "id": "MumB7zGrwagz"
      },
      "outputs": [],
      "source": [
        "import warnings\n",
        "warnings.filterwarnings('ignore')"
      ]
    },
    {
      "cell_type": "code",
      "execution_count": null,
      "metadata": {
        "id": "SRFbZ_F-wag0"
      },
      "outputs": [],
      "source": [
        "# Importación de librerías\n",
        "import pandas as pd\n",
        "import numpy as np\n",
        "%matplotlib inline\n",
        "import matplotlib.pyplot as plt"
      ]
    },
    {
      "cell_type": "code",
      "execution_count": null,
      "metadata": {
        "id": "IsTFkVwnwag0",
        "outputId": "c42cd038-bdf7-4407-8bcc-4a21c41c2ba6",
        "colab": {
          "base_uri": "https://localhost:8080/",
          "height": 527
        }
      },
      "outputs": [
        {
          "output_type": "execute_result",
          "data": {
            "text/plain": [
              "                   airline_sentiment  airline_sentiment_confidence  \\\n",
              "tweet_id                                                             \n",
              "570306133677760513           neutral                        1.0000   \n",
              "570301130888122368          positive                        0.3486   \n",
              "570301083672813571           neutral                        0.6837   \n",
              "570301031407624196          negative                        1.0000   \n",
              "570300817074462722          negative                        1.0000   \n",
              "\n",
              "                   negativereason  negativereason_confidence         airline  \\\n",
              "tweet_id                                                                       \n",
              "570306133677760513            NaN                        NaN  Virgin America   \n",
              "570301130888122368            NaN                     0.0000  Virgin America   \n",
              "570301083672813571            NaN                        NaN  Virgin America   \n",
              "570301031407624196     Bad Flight                     0.7033  Virgin America   \n",
              "570300817074462722     Can't Tell                     1.0000  Virgin America   \n",
              "\n",
              "                   airline_sentiment_gold        name negativereason_gold  \\\n",
              "tweet_id                                                                    \n",
              "570306133677760513                    NaN     cairdin                 NaN   \n",
              "570301130888122368                    NaN    jnardino                 NaN   \n",
              "570301083672813571                    NaN  yvonnalynn                 NaN   \n",
              "570301031407624196                    NaN    jnardino                 NaN   \n",
              "570300817074462722                    NaN    jnardino                 NaN   \n",
              "\n",
              "                    retweet_count  \\\n",
              "tweet_id                            \n",
              "570306133677760513              0   \n",
              "570301130888122368              0   \n",
              "570301083672813571              0   \n",
              "570301031407624196              0   \n",
              "570300817074462722              0   \n",
              "\n",
              "                                                                 text  \\\n",
              "tweet_id                                                                \n",
              "570306133677760513                @VirginAmerica What @dhepburn said.   \n",
              "570301130888122368  @VirginAmerica plus you've added commercials t...   \n",
              "570301083672813571  @VirginAmerica I didn't today... Must mean I n...   \n",
              "570301031407624196  @VirginAmerica it's really aggressive to blast...   \n",
              "570300817074462722  @VirginAmerica and it's a really big bad thing...   \n",
              "\n",
              "                   tweet_coord              tweet_created tweet_location  \\\n",
              "tweet_id                                                                   \n",
              "570306133677760513         NaN  2015-02-24 11:35:52 -0800            NaN   \n",
              "570301130888122368         NaN  2015-02-24 11:15:59 -0800            NaN   \n",
              "570301083672813571         NaN  2015-02-24 11:15:48 -0800      Lets Play   \n",
              "570301031407624196         NaN  2015-02-24 11:15:36 -0800            NaN   \n",
              "570300817074462722         NaN  2015-02-24 11:14:45 -0800            NaN   \n",
              "\n",
              "                                 user_timezone  \n",
              "tweet_id                                        \n",
              "570306133677760513  Eastern Time (US & Canada)  \n",
              "570301130888122368  Pacific Time (US & Canada)  \n",
              "570301083672813571  Central Time (US & Canada)  \n",
              "570301031407624196  Pacific Time (US & Canada)  \n",
              "570300817074462722  Pacific Time (US & Canada)  "
            ],
            "text/html": [
              "\n",
              "  <div id=\"df-8e3ba75c-4182-43c1-bad2-45822029a146\">\n",
              "    <div class=\"colab-df-container\">\n",
              "      <div>\n",
              "<style scoped>\n",
              "    .dataframe tbody tr th:only-of-type {\n",
              "        vertical-align: middle;\n",
              "    }\n",
              "\n",
              "    .dataframe tbody tr th {\n",
              "        vertical-align: top;\n",
              "    }\n",
              "\n",
              "    .dataframe thead th {\n",
              "        text-align: right;\n",
              "    }\n",
              "</style>\n",
              "<table border=\"1\" class=\"dataframe\">\n",
              "  <thead>\n",
              "    <tr style=\"text-align: right;\">\n",
              "      <th></th>\n",
              "      <th>airline_sentiment</th>\n",
              "      <th>airline_sentiment_confidence</th>\n",
              "      <th>negativereason</th>\n",
              "      <th>negativereason_confidence</th>\n",
              "      <th>airline</th>\n",
              "      <th>airline_sentiment_gold</th>\n",
              "      <th>name</th>\n",
              "      <th>negativereason_gold</th>\n",
              "      <th>retweet_count</th>\n",
              "      <th>text</th>\n",
              "      <th>tweet_coord</th>\n",
              "      <th>tweet_created</th>\n",
              "      <th>tweet_location</th>\n",
              "      <th>user_timezone</th>\n",
              "    </tr>\n",
              "    <tr>\n",
              "      <th>tweet_id</th>\n",
              "      <th></th>\n",
              "      <th></th>\n",
              "      <th></th>\n",
              "      <th></th>\n",
              "      <th></th>\n",
              "      <th></th>\n",
              "      <th></th>\n",
              "      <th></th>\n",
              "      <th></th>\n",
              "      <th></th>\n",
              "      <th></th>\n",
              "      <th></th>\n",
              "      <th></th>\n",
              "      <th></th>\n",
              "    </tr>\n",
              "  </thead>\n",
              "  <tbody>\n",
              "    <tr>\n",
              "      <th>570306133677760513</th>\n",
              "      <td>neutral</td>\n",
              "      <td>1.0000</td>\n",
              "      <td>NaN</td>\n",
              "      <td>NaN</td>\n",
              "      <td>Virgin America</td>\n",
              "      <td>NaN</td>\n",
              "      <td>cairdin</td>\n",
              "      <td>NaN</td>\n",
              "      <td>0</td>\n",
              "      <td>@VirginAmerica What @dhepburn said.</td>\n",
              "      <td>NaN</td>\n",
              "      <td>2015-02-24 11:35:52 -0800</td>\n",
              "      <td>NaN</td>\n",
              "      <td>Eastern Time (US &amp; Canada)</td>\n",
              "    </tr>\n",
              "    <tr>\n",
              "      <th>570301130888122368</th>\n",
              "      <td>positive</td>\n",
              "      <td>0.3486</td>\n",
              "      <td>NaN</td>\n",
              "      <td>0.0000</td>\n",
              "      <td>Virgin America</td>\n",
              "      <td>NaN</td>\n",
              "      <td>jnardino</td>\n",
              "      <td>NaN</td>\n",
              "      <td>0</td>\n",
              "      <td>@VirginAmerica plus you've added commercials t...</td>\n",
              "      <td>NaN</td>\n",
              "      <td>2015-02-24 11:15:59 -0800</td>\n",
              "      <td>NaN</td>\n",
              "      <td>Pacific Time (US &amp; Canada)</td>\n",
              "    </tr>\n",
              "    <tr>\n",
              "      <th>570301083672813571</th>\n",
              "      <td>neutral</td>\n",
              "      <td>0.6837</td>\n",
              "      <td>NaN</td>\n",
              "      <td>NaN</td>\n",
              "      <td>Virgin America</td>\n",
              "      <td>NaN</td>\n",
              "      <td>yvonnalynn</td>\n",
              "      <td>NaN</td>\n",
              "      <td>0</td>\n",
              "      <td>@VirginAmerica I didn't today... Must mean I n...</td>\n",
              "      <td>NaN</td>\n",
              "      <td>2015-02-24 11:15:48 -0800</td>\n",
              "      <td>Lets Play</td>\n",
              "      <td>Central Time (US &amp; Canada)</td>\n",
              "    </tr>\n",
              "    <tr>\n",
              "      <th>570301031407624196</th>\n",
              "      <td>negative</td>\n",
              "      <td>1.0000</td>\n",
              "      <td>Bad Flight</td>\n",
              "      <td>0.7033</td>\n",
              "      <td>Virgin America</td>\n",
              "      <td>NaN</td>\n",
              "      <td>jnardino</td>\n",
              "      <td>NaN</td>\n",
              "      <td>0</td>\n",
              "      <td>@VirginAmerica it's really aggressive to blast...</td>\n",
              "      <td>NaN</td>\n",
              "      <td>2015-02-24 11:15:36 -0800</td>\n",
              "      <td>NaN</td>\n",
              "      <td>Pacific Time (US &amp; Canada)</td>\n",
              "    </tr>\n",
              "    <tr>\n",
              "      <th>570300817074462722</th>\n",
              "      <td>negative</td>\n",
              "      <td>1.0000</td>\n",
              "      <td>Can't Tell</td>\n",
              "      <td>1.0000</td>\n",
              "      <td>Virgin America</td>\n",
              "      <td>NaN</td>\n",
              "      <td>jnardino</td>\n",
              "      <td>NaN</td>\n",
              "      <td>0</td>\n",
              "      <td>@VirginAmerica and it's a really big bad thing...</td>\n",
              "      <td>NaN</td>\n",
              "      <td>2015-02-24 11:14:45 -0800</td>\n",
              "      <td>NaN</td>\n",
              "      <td>Pacific Time (US &amp; Canada)</td>\n",
              "    </tr>\n",
              "  </tbody>\n",
              "</table>\n",
              "</div>\n",
              "      <button class=\"colab-df-convert\" onclick=\"convertToInteractive('df-8e3ba75c-4182-43c1-bad2-45822029a146')\"\n",
              "              title=\"Convert this dataframe to an interactive table.\"\n",
              "              style=\"display:none;\">\n",
              "        \n",
              "  <svg xmlns=\"http://www.w3.org/2000/svg\" height=\"24px\"viewBox=\"0 0 24 24\"\n",
              "       width=\"24px\">\n",
              "    <path d=\"M0 0h24v24H0V0z\" fill=\"none\"/>\n",
              "    <path d=\"M18.56 5.44l.94 2.06.94-2.06 2.06-.94-2.06-.94-.94-2.06-.94 2.06-2.06.94zm-11 1L8.5 8.5l.94-2.06 2.06-.94-2.06-.94L8.5 2.5l-.94 2.06-2.06.94zm10 10l.94 2.06.94-2.06 2.06-.94-2.06-.94-.94-2.06-.94 2.06-2.06.94z\"/><path d=\"M17.41 7.96l-1.37-1.37c-.4-.4-.92-.59-1.43-.59-.52 0-1.04.2-1.43.59L10.3 9.45l-7.72 7.72c-.78.78-.78 2.05 0 2.83L4 21.41c.39.39.9.59 1.41.59.51 0 1.02-.2 1.41-.59l7.78-7.78 2.81-2.81c.8-.78.8-2.07 0-2.86zM5.41 20L4 18.59l7.72-7.72 1.47 1.35L5.41 20z\"/>\n",
              "  </svg>\n",
              "      </button>\n",
              "      \n",
              "  <style>\n",
              "    .colab-df-container {\n",
              "      display:flex;\n",
              "      flex-wrap:wrap;\n",
              "      gap: 12px;\n",
              "    }\n",
              "\n",
              "    .colab-df-convert {\n",
              "      background-color: #E8F0FE;\n",
              "      border: none;\n",
              "      border-radius: 50%;\n",
              "      cursor: pointer;\n",
              "      display: none;\n",
              "      fill: #1967D2;\n",
              "      height: 32px;\n",
              "      padding: 0 0 0 0;\n",
              "      width: 32px;\n",
              "    }\n",
              "\n",
              "    .colab-df-convert:hover {\n",
              "      background-color: #E2EBFA;\n",
              "      box-shadow: 0px 1px 2px rgba(60, 64, 67, 0.3), 0px 1px 3px 1px rgba(60, 64, 67, 0.15);\n",
              "      fill: #174EA6;\n",
              "    }\n",
              "\n",
              "    [theme=dark] .colab-df-convert {\n",
              "      background-color: #3B4455;\n",
              "      fill: #D2E3FC;\n",
              "    }\n",
              "\n",
              "    [theme=dark] .colab-df-convert:hover {\n",
              "      background-color: #434B5C;\n",
              "      box-shadow: 0px 1px 3px 1px rgba(0, 0, 0, 0.15);\n",
              "      filter: drop-shadow(0px 1px 2px rgba(0, 0, 0, 0.3));\n",
              "      fill: #FFFFFF;\n",
              "    }\n",
              "  </style>\n",
              "\n",
              "      <script>\n",
              "        const buttonEl =\n",
              "          document.querySelector('#df-8e3ba75c-4182-43c1-bad2-45822029a146 button.colab-df-convert');\n",
              "        buttonEl.style.display =\n",
              "          google.colab.kernel.accessAllowed ? 'block' : 'none';\n",
              "\n",
              "        async function convertToInteractive(key) {\n",
              "          const element = document.querySelector('#df-8e3ba75c-4182-43c1-bad2-45822029a146');\n",
              "          const dataTable =\n",
              "            await google.colab.kernel.invokeFunction('convertToInteractive',\n",
              "                                                     [key], {});\n",
              "          if (!dataTable) return;\n",
              "\n",
              "          const docLinkHtml = 'Like what you see? Visit the ' +\n",
              "            '<a target=\"_blank\" href=https://colab.research.google.com/notebooks/data_table.ipynb>data table notebook</a>'\n",
              "            + ' to learn more about interactive tables.';\n",
              "          element.innerHTML = '';\n",
              "          dataTable['output_type'] = 'display_data';\n",
              "          await google.colab.output.renderOutput(dataTable, element);\n",
              "          const docLink = document.createElement('div');\n",
              "          docLink.innerHTML = docLinkHtml;\n",
              "          element.appendChild(docLink);\n",
              "        }\n",
              "      </script>\n",
              "    </div>\n",
              "  </div>\n",
              "  "
            ]
          },
          "metadata": {},
          "execution_count": 31
        }
      ],
      "source": [
        "# Lectura de la información de archivo .zip\n",
        "tweets = pd.read_csv('https://raw.githubusercontent.com/albahnsen/MIAD_ML_and_NLP/main/datasets/Tweets.zip', index_col=0)\n",
        "\n",
        "# Visualización dataset\n",
        "tweets.head()"
      ]
    },
    {
      "cell_type": "code",
      "execution_count": null,
      "metadata": {
        "id": "Qw7OU-mtwag2",
        "outputId": "e3d36edd-e07e-4e55-f418-816c47bebf2d",
        "colab": {
          "base_uri": "https://localhost:8080/"
        }
      },
      "outputs": [
        {
          "output_type": "execute_result",
          "data": {
            "text/plain": [
              "(14640, 14)"
            ]
          },
          "metadata": {},
          "execution_count": 32
        }
      ],
      "source": [
        "# Impresión tamaño del cojunto de datos\n",
        "tweets.shape"
      ]
    },
    {
      "cell_type": "markdown",
      "metadata": {
        "id": "S-ZJllIiwag2"
      },
      "source": [
        "### Análisis descriptivo"
      ]
    },
    {
      "cell_type": "code",
      "execution_count": null,
      "metadata": {
        "id": "3-aCiTK4wag3",
        "outputId": "179168d8-f076-4ee9-af4f-35d3b7fbe66a",
        "colab": {
          "base_uri": "https://localhost:8080/"
        }
      },
      "outputs": [
        {
          "output_type": "execute_result",
          "data": {
            "text/plain": [
              "negative    9178\n",
              "neutral     3099\n",
              "positive    2363\n",
              "Name: airline_sentiment, dtype: int64"
            ]
          },
          "metadata": {},
          "execution_count": 33
        }
      ],
      "source": [
        "# Cuenta de tweets por cada sentimiento\n",
        "tweets['airline_sentiment'].value_counts()"
      ]
    },
    {
      "cell_type": "code",
      "execution_count": null,
      "metadata": {
        "id": "bPpksu6Awag3",
        "outputId": "e48fcaf4-8c50-454b-c759-55e93c2f9941",
        "colab": {
          "base_uri": "https://localhost:8080/"
        }
      },
      "outputs": [
        {
          "output_type": "execute_result",
          "data": {
            "text/plain": [
              "United            3822\n",
              "US Airways        2913\n",
              "American          2759\n",
              "Southwest         2420\n",
              "Delta             2222\n",
              "Virgin America     504\n",
              "Name: airline, dtype: int64"
            ]
          },
          "metadata": {},
          "execution_count": 34
        }
      ],
      "source": [
        "# Cuenta de tweets por cada aerolínea\n",
        "tweets['airline'].value_counts()"
      ]
    },
    {
      "cell_type": "code",
      "execution_count": null,
      "metadata": {
        "id": "m_dSqUfywag4",
        "outputId": "f3a7d803-e4b3-4611-806a-05d364e96e33",
        "colab": {
          "base_uri": "https://localhost:8080/",
          "height": 582
        }
      },
      "outputs": [
        {
          "output_type": "execute_result",
          "data": {
            "text/plain": [
              "<Axes: title={'center': 'Sentiminetos por aerolínea'}, xlabel='airline'>"
            ]
          },
          "metadata": {},
          "execution_count": 35
        },
        {
          "output_type": "display_data",
          "data": {
            "text/plain": [
              "<Figure size 1000x600 with 1 Axes>"
            ],
            "image/png": "[encoded data removed]"
          },
          "metadata": {}
        }
      ],
      "source": [
        "# Plot con cuenta de tweets por cada aerolínea y sentimiento\n",
        "pd.crosstab(index = tweets[\"airline\"],columns = tweets[\"airline_sentiment\"]).plot(kind='bar',figsize=(10, 6),alpha=0.5,rot=0,stacked=True,title=\"Sentiminetos por aerolínea\")"
      ]
    },
    {
      "cell_type": "markdown",
      "metadata": {
        "id": "yG1b2xx6wag5"
      },
      "source": [
        "### Liberias y Variables de interés y predicción"
      ]
    },
    {
      "cell_type": "code",
      "execution_count": null,
      "metadata": {
        "id": "eaQz_HnGwag7"
      },
      "outputs": [],
      "source": [
        "from sklearn.model_selection import train_test_split, cross_val_score\n",
        "from sklearn.feature_extraction.text import CountVectorizer, TfidfVectorizer\n",
        "from sklearn.ensemble import RandomForestClassifier\n",
        "from nltk.stem.snowball import SnowballStemmer\n",
        "from nltk.stem import WordNetLemmatizer\n",
        "from sklearn.ensemble import RandomForestClassifier\n",
        "from sklearn.metrics import accuracy_score, roc_auc_score\n",
        "from nltk.corpus import stopwords"
      ]
    },
    {
      "cell_type": "code",
      "execution_count": null,
      "metadata": {
        "id": "07vLYXiZwag8"
      },
      "outputs": [],
      "source": [
        "# Separación de variables predictoras (X) y de variable de interés (y)\n",
        "X = tweets['text']\n",
        "y = tweets['airline_sentiment'].map({'negative':-1,'neutral':0,'positive':1})"
      ]
    },
    {
      "cell_type": "code",
      "execution_count": null,
      "metadata": {
        "id": "A4ACkgg1wag8"
      },
      "outputs": [],
      "source": [
        "# Separación de datos en set de entrenamiento y test\n",
        "X_train, X_test, y_train, y_test = train_test_split(X, y, test_size=0.33, random_state=42)"
      ]
    },
    {
      "cell_type": "code",
      "source": [
        "X"
      ],
      "metadata": {
        "colab": {
          "base_uri": "https://localhost:8080/"
        },
        "id": "gsoCDFSsU9dk",
        "outputId": "474a015d-13e6-4488-dbad-90598d5eb4f8"
      },
      "execution_count": null,
      "outputs": [
        {
          "output_type": "execute_result",
          "data": {
            "text/plain": [
              "tweet_id\n",
              "570306133677760513                  @VirginAmerica What @dhepburn said.\n",
              "570301130888122368    @VirginAmerica plus you've added commercials t...\n",
              "570301083672813571    @VirginAmerica I didn't today... Must mean I n...\n",
              "570301031407624196    @VirginAmerica it's really aggressive to blast...\n",
              "570300817074462722    @VirginAmerica and it's a really big bad thing...\n",
              "                                            ...                        \n",
              "569587686496825344    @AmericanAir thank you we got on a different f...\n",
              "569587371693355008    @AmericanAir leaving over 20 minutes Late Flig...\n",
              "569587242672398336    @AmericanAir Please bring American Airlines to...\n",
              "569587188687634433    @AmericanAir you have my money, you change my ...\n",
              "569587140490866689    @AmericanAir we have 8 ppl so we need 2 know h...\n",
              "Name: text, Length: 14640, dtype: object"
            ]
          },
          "metadata": {},
          "execution_count": 39
        }
      ]
    },
    {
      "cell_type": "code",
      "source": [
        "y"
      ],
      "metadata": {
        "colab": {
          "base_uri": "https://localhost:8080/"
        },
        "id": "sRz6djbaU_dt",
        "outputId": "983cb4c1-4163-4714-9664-321c83861ab4"
      },
      "execution_count": null,
      "outputs": [
        {
          "output_type": "execute_result",
          "data": {
            "text/plain": [
              "tweet_id\n",
              "570306133677760513    0\n",
              "570301130888122368    1\n",
              "570301083672813571    0\n",
              "570301031407624196   -1\n",
              "570300817074462722   -1\n",
              "                     ..\n",
              "569587686496825344    1\n",
              "569587371693355008   -1\n",
              "569587242672398336    0\n",
              "569587188687634433   -1\n",
              "569587140490866689    0\n",
              "Name: airline_sentiment, Length: 14640, dtype: int64"
            ]
          },
          "metadata": {},
          "execution_count": 40
        }
      ]
    },
    {
      "cell_type": "markdown",
      "metadata": {
        "id": "f2DLY5Mxwag9"
      },
      "source": [
        "### Punto 1 - Uso de CountVectorizer\n",
        "\n",
        "En la celda 1 creen un modelo de random forest con la libreria sklearn que prediga el sentimiento de los tweets usando los set de entrenamiento y test definidos anteriormente. Usen la función **CountVectorizer** y presenten el desempeño del modelo con la métrica del acurracy.\n",
        "\n",
        "Recuerden que el preprocesamiento que se haga sobre los datos de entrenamiento  (*.fit_transform()*) deben ser aplicado al set de test (*.transform()*)."
      ]
    },
    {
      "cell_type": "code",
      "execution_count": null,
      "metadata": {
        "id": "awZOY09Fwag9"
      },
      "outputs": [],
      "source": [
        "#Para comparar las métricas de cada modelo\n",
        "Accuracy = {}"
      ]
    },
    {
      "cell_type": "code",
      "execution_count": null,
      "metadata": {
        "id": "PkstmRDxwag-",
        "outputId": "655b09f6-5012-4afb-d0cb-f671b5cdbaf5",
        "colab": {
          "base_uri": "https://localhost:8080/"
        }
      },
      "outputs": [
        {
          "output_type": "stream",
          "name": "stdout",
          "text": [
            "Accuracy:  0.7750413907284768\n"
          ]
        }
      ],
      "source": [
        "# Celda 1\n",
        "\n",
        "# Crear el objeto CountVectorizer y ajuste a los datos de entrenamiento\n",
        "vectorizer = CountVectorizer()\n",
        "X_train_vectorized = vectorizer.fit_transform(X_train)\n",
        "\n",
        "# Transformar los datos de prueba con el vectorizador ajustado\n",
        "X_test_vectorized = vectorizer.transform(X_test)\n",
        "\n",
        "# Crear del modelo y entrenamiento\n",
        "\n",
        "model_RF = RandomForestClassifier()\n",
        "model_RF.fit(X_train_vectorized, y_train)\n",
        "\n",
        "# Predicciones en el conjunto de prueba\n",
        "y_pred = model_RF.predict(X_test_vectorized)\n",
        "\n",
        "# Desempeño del modelo\n",
        "accuracy = accuracy_score( y_test, y_pred)\n",
        "print(\"Accuracy: \", accuracy)\n",
        "Accuracy['Mod CountVect'] = accuracy"
      ]
    },
    {
      "cell_type": "markdown",
      "source": [
        "# Observaciones"
      ],
      "metadata": {
        "id": "ZejAQ6oOZ4v8"
      }
    },
    {
      "cell_type": "markdown",
      "metadata": {
        "id": "P2KNkmVzwag-"
      },
      "source": [
        "- Como se puede observar en el resultado anterior con un modelo de random forest con un vectorizador de recuento (CountVectorizer) se tiene una precisión del 77,5% de que se prediga correctamente el sentimiento de los tweets.\n",
        "\n",
        "- Consideramos que el desempeño no esta bueno, sin embargo con el desarrollo de los siguiente puntos se espera que la precisión mejore. "
      ]
    },
    {
      "cell_type": "markdown",
      "metadata": {
        "id": "bB0MDdC5wag_"
      },
      "source": [
        "### Punto 2 - Eliminación de Stopwords\n",
        "\n",
        "En la celda 2 creen un modelo de random forest con la libreria sklearn que prediga el sentimiento de los tweets usando los set de entrenamiento y test definidos anteriormente. Usen la función CountVectorizer, **eliminen stopwords** y presenten el desempeño del modelo con la métrica del acurracy.\n",
        "\n",
        "Recuerden que el preprocesamiento que se haga sobre los datos de entrenamiento  (*.fit_transform()*) deben ser aplicado al set de test (*.transform()*)."
      ]
    },
    {
      "cell_type": "code",
      "execution_count": null,
      "metadata": {
        "id": "Zyf3Wk4swag_",
        "colab": {
          "base_uri": "https://localhost:8080/"
        },
        "outputId": "261af646-d08d-4565-88eb-9159adb09401"
      },
      "outputs": [
        {
          "output_type": "stream",
          "name": "stdout",
          "text": [
            "Accuracy:  0.761796357615894\n"
          ]
        }
      ],
      "source": [
        "# Celda 2\n",
        "\n",
        "# Crear un objeto CountVectorizer para convertir las palabras en vectores\n",
        "vector_sin_stopwords = CountVectorizer(stop_words='english')\n",
        "\n",
        "# Convertir los tweets de entrenamiento y test en matrices de términos de documentos\n",
        "X_train_v = vector_sin_stopwords.fit_transform(X_train)\n",
        "X_test_v = vector_sin_stopwords.transform(X_test)\n",
        "\n",
        "# Crear un modelo de Random Forest y entrenarlo con los datos de entrenamiento, 100 estimadores\n",
        "rf = RandomForestClassifier(n_estimators=100, random_state=42)\n",
        "rf.fit(X_train_v, y_train)\n",
        "\n",
        "# Predecir los sentimientos de los tweets de test\n",
        "predicciones = rf.predict(X_test_v)\n",
        "\n",
        "# Desempeño del modelo\n",
        "accuracy_StopW = accuracy_score(y_test, predicciones)\n",
        "print(\"Accuracy: \", accuracy_StopW)\n",
        "Accuracy['Mod CountVect_StopWords'] = accuracy_StopW\n",
        "\n"
      ]
    },
    {
      "cell_type": "markdown",
      "source": [
        "# Observaciones:\n",
        "- El valor de 0.7618 es el resultado de la exactitud (accuracy) obtenida al aplicar el modelo de Random Forest con un vectorizador de recuento (CountVectorizer)al conjunto de datos de prueba después de haber utilizado la técnica de eliminación de palabras vacías o stop words\n",
        "\n",
        "- Este valor indica que el modelo clasificó correctamente el 76.18% de los tweets del conjunto de prueba en términos de su sentimiento. Es decir, aproximadamente 3 de cada 4 tweets fueron clasificados correctamente\n",
        "\n",
        "- Sin embargo podemos evidenciar que la eliminación de las stopwords no mejora el modelo."
      ],
      "metadata": {
        "id": "GfWe0jkjZ2GL"
      }
    },
    {
      "cell_type": "markdown",
      "metadata": {
        "id": "c8EC87S5wag_"
      },
      "source": [
        "### Punto 3 - Lematización con verbos\n",
        "\n",
        "En la celda 3 creen un modelo de random forest con la libreria sklearn que prediga el sentimiento de los tweets usando los set de entrenamiento y test definidos anteriormente. Usen la función CountVectorizer, **lematizen el texto con verbos** y presenten el desempeño del modelo con la métrica del acurracy.\n",
        "\n",
        "Recuerden que el preprocesamiento que se haga sobre los datos de entrenamiento  (*.fit_transform()*) deben ser aplicado al set de test (*.transform()*)."
      ]
    },
    {
      "cell_type": "code",
      "execution_count": null,
      "metadata": {
        "id": "2aOOpps4wag_",
        "colab": {
          "base_uri": "https://localhost:8080/"
        },
        "outputId": "5c5037cb-c284-4fdb-ccc7-b7ccc4359095"
      },
      "outputs": [
        {
          "output_type": "stream",
          "name": "stderr",
          "text": [
            "[nltk_data] Downloading package stopwords to /root/nltk_data...\n",
            "[nltk_data]   Package stopwords is already up-to-date!\n",
            "[nltk_data] Downloading package punkt to /root/nltk_data...\n",
            "[nltk_data]   Package punkt is already up-to-date!\n",
            "[nltk_data] Downloading package wordnet to /root/nltk_data...\n",
            "[nltk_data]   Package wordnet is already up-to-date!\n",
            "[nltk_data] Downloading package averaged_perceptron_tagger to\n",
            "[nltk_data]     /root/nltk_data...\n",
            "[nltk_data]   Package averaged_perceptron_tagger is already up-to-\n",
            "[nltk_data]       date!\n"
          ]
        },
        {
          "output_type": "stream",
          "name": "stdout",
          "text": [
            "Accuracy:  0.7644867549668874\n"
          ]
        }
      ],
      "source": [
        "# Celda 3\n",
        "# Importación de librerias\n",
        "import nltk\n",
        "from sklearn.feature_extraction.text import CountVectorizer\n",
        "from sklearn.ensemble import RandomForestClassifier\n",
        "\n",
        "# Descargar las stop words y lematizador de nltk\n",
        "nltk.download('stopwords')\n",
        "nltk.download('punkt')\n",
        "nltk.download('wordnet')\n",
        "nltk.download('averaged_perceptron_tagger')\n",
        "\n",
        "wordnet_lemmatizer = nltk.WordNetLemmatizer()\n",
        "\n",
        "def lemmatize_verbs(text):\n",
        "    words = nltk.word_tokenize(text)\n",
        "    pos_tags = nltk.pos_tag(words)\n",
        "    lemmatized_words = []\n",
        "    for tag in pos_tags:\n",
        "        if tag[1].startswith('V'):\n",
        "            lemmatized_word = wordnet_lemmatizer.lemmatize(tag[0], nltk.corpus.wordnet.VERB)\n",
        "        else:\n",
        "            lemmatized_word = tag[0]\n",
        "        lemmatized_words.append(lemmatized_word)\n",
        "    return ' '.join(lemmatized_words)\n",
        "\n",
        "# Crea un objeto CountVectorizer y lo utiliza para transformar el corpus de texto\n",
        "vectorizer_lem = CountVectorizer(preprocessor=lemmatize_verbs)\n",
        "X_train_counts = vectorizer_lem.fit_transform(X_train)\n",
        "X_test_counts = vectorizer_lem.transform(X_test)\n",
        "\n",
        "# Crea un modelo RandomForest\n",
        "rfc = RandomForestClassifier(n_estimators=100, random_state=42)\n",
        "rfc.fit(X_train_counts, y_train)\n",
        "\n",
        "# Predecir las etiquetas para los datos de prueba y evaluar la precisión del modelo\n",
        "pred_st = rfc.predict(X_test_counts)\n",
        "\n",
        "# Calcular el desempeño del modelo\n",
        "accuracy_st = accuracy_score(y_test, pred_st)\n",
        "print(\"Accuracy: \", accuracy_st)\n",
        "Accuracy['Lematización con verbos'] = accuracy_st"
      ]
    },
    {
      "cell_type": "markdown",
      "source": [
        "#Observaciones"
      ],
      "metadata": {
        "id": "k0fdLxAgaUsr"
      }
    },
    {
      "cell_type": "markdown",
      "source": [
        "- El modelo de clasificación RandomForest y un preprocesamiento de texto que se enfoca en la lematización de verbos. El preprocesador personalizado lemmatize_verbs lematiza solo los verbos en el texto, lo que puede ayudar a reducir la variabilidad en la representación de las palabras y mejorar la capacidad del modelo para generalizar a partir de los datos de entrenamiento.\n",
        "\n",
        "- El modelo alcanza una precisión de 0.7645 (aproximadamente 76.45%) en los datos de prueba. Esto indica que el modelo RandomForest entrenado con lematización de verbos es capaz de predecir correctamente las etiquetas en un 76.45% de los casos en el conjunto de datos de prueba."
      ],
      "metadata": {
        "id": "wJJNzPBlaZPk"
      }
    },
    {
      "cell_type": "markdown",
      "metadata": {
        "id": "T5mg7TfnwahA"
      },
      "source": [
        "### Punto 4 - Multiples técnicas\n",
        "\n",
        "En la celda 4 creen un modelo de random forest con la libreria sklearn que prediga el sentimiento de los tweets usando los set de entrenamiento y test definidos anteriormente. Usen la función **CountVectorizer, eliminen stopwords, lematizen el texto con verbos** y presenten el desempeño del modelo con la métrica del acurracy.\n",
        "\n",
        "Recuerden que el preprocesamiento que se haga sobre los datos de entrenamiento  (*.fit_transform()*) deben ser aplicado al set de test (*.transform()*)."
      ]
    },
    {
      "cell_type": "code",
      "execution_count": null,
      "metadata": {
        "id": "ofomPf_wwahA",
        "colab": {
          "base_uri": "https://localhost:8080/"
        },
        "outputId": "824ffcb0-a46b-4a72-fe61-ce524ffeea71"
      },
      "outputs": [
        {
          "output_type": "stream",
          "name": "stderr",
          "text": [
            "[nltk_data] Downloading package stopwords to /root/nltk_data...\n",
            "[nltk_data]   Package stopwords is already up-to-date!\n",
            "[nltk_data] Downloading package punkt to /root/nltk_data...\n",
            "[nltk_data]   Package punkt is already up-to-date!\n",
            "[nltk_data] Downloading package wordnet to /root/nltk_data...\n",
            "[nltk_data]   Package wordnet is already up-to-date!\n",
            "[nltk_data] Downloading package averaged_perceptron_tagger to\n",
            "[nltk_data]     /root/nltk_data...\n",
            "[nltk_data]   Package averaged_perceptron_tagger is already up-to-\n",
            "[nltk_data]       date!\n"
          ]
        },
        {
          "output_type": "stream",
          "name": "stdout",
          "text": [
            "Accuracy:  0.7622102649006622\n"
          ]
        }
      ],
      "source": [
        "# Celda 4\n",
        "\n",
        "\n",
        "# Descargar las stop words y lematizador de nltk\n",
        "nltk.download('stopwords')\n",
        "nltk.download('punkt')\n",
        "nltk.download('wordnet')\n",
        "nltk.download('averaged_perceptron_tagger')\n",
        "\n",
        "wordnet_lemmatizer = nltk.WordNetLemmatizer()\n",
        "\n",
        "def lemmatize_verbs(text):\n",
        "    words = nltk.word_tokenize(text)\n",
        "    pos_tags = nltk.pos_tag(words)\n",
        "    lemmatized_words = []\n",
        "    for tag in pos_tags:\n",
        "        if tag[1].startswith('V'):\n",
        "            lemmatized_word = wordnet_lemmatizer.lemmatize(tag[0], nltk.corpus.wordnet.VERB)\n",
        "        else:\n",
        "            lemmatized_word = tag[0]\n",
        "        lemmatized_words.append(lemmatized_word)\n",
        "    return ' '.join(lemmatized_words)\n",
        "\n",
        "# Crea un objeto CountVectorizer y lo utiliza para transformar el corpus de texto\n",
        "vectorizer_lem = CountVectorizer(stop_words='english', preprocessor=lemmatize_verbs)\n",
        "X_train_counts = vectorizer_lem.fit_transform(X_train)\n",
        "X_test_counts = vectorizer_lem.transform(X_test)\n",
        "\n",
        "# Crea un modelo RandomForest\n",
        "rfc = RandomForestClassifier(n_estimators=100, random_state=42)\n",
        "rfc.fit(X_train_counts, y_train)\n",
        "\n",
        "# Predecir las etiquetas para los datos de prueba y evaluar la precisión del modelo\n",
        "predicciones_sw = rfc.predict(X_test_counts)\n",
        "\n",
        "# Calcular el desempeño del modelo\n",
        "accuracy_sin_sw = accuracy_score(y_test, predicciones_sw)\n",
        "print(\"Accuracy: \", accuracy_sin_sw)\n",
        "Accuracy['Mod Lematizacion-SW'] = accuracy_sin_sw"
      ]
    },
    {
      "cell_type": "markdown",
      "source": [
        "#Observaciones:\n",
        "- El modelo de clasificación RandomForest y un preprocesamiento de texto que se enfoca en la lematización de verbos y en la eliminación de las palabras vacías (stop words)\n",
        "\n",
        "- El modelo alcanza una precisión de 0.7622 (aproximadamente 76.22%) en los datos de prueba. Esto indica que el modelo RandomForest entrenado con lematización de verbos y eliminación de stop words es capaz de predecir correctamente las etiquetas en un 76.22% de los casos en el conjunto de datos de prueba.\n",
        "\n"
      ],
      "metadata": {
        "id": "YkYX8Pr8bs6U"
      }
    },
    {
      "cell_type": "markdown",
      "metadata": {
        "id": "LYT23BOwwahA"
      },
      "source": [
        "### Punto 5 - Comparación y análisis de resultados\n",
        "\n",
        "En la celda 5 comparen los resultados obtenidos de los diferentes modelos (random forest) y comenten las ventajas del mejor modelo y las desventajas del modelo con el menor desempeño."
      ]
    },
    {
      "cell_type": "code",
      "execution_count": null,
      "metadata": {
        "id": "Nl_PtIOkwahA",
        "colab": {
          "base_uri": "https://localhost:8080/",
          "height": 563
        },
        "outputId": "2a62b6cd-e70e-42ac-faca-18d6067b6311"
      },
      "outputs": [
        {
          "output_type": "display_data",
          "data": {
            "text/plain": [
              "<Figure size 1600x400 with 1 Axes>"
            ],
            "image/png": "[encoded data removed]"
          },
          "metadata": {}
        }
      ],
      "source": [
        "# Celda 5\n",
        "plt.figure(figsize=(16,4))\n",
        "plt.bar(Accuracy.keys(),Accuracy.values() )\n",
        "plt.ylabel('$Accuracy$')\n",
        "plt.title('Model Comparison')\n",
        "plt.grid()\n",
        "  \n",
        "def add_labels(x,y):\n",
        "    for i in range(len(x)):\n",
        "        plt.text(i, y[i]+ 0.002, round(y[i],3), ha = 'center')\n",
        "        plt.xticks(rotation=90)\n",
        "\n",
        "add_labels(Accuracy.keys(),list(Accuracy.values()))\n",
        "\n"
      ]
    },
    {
      "cell_type": "markdown",
      "source": [
        "Observaciones:"
      ],
      "metadata": {
        "id": "gDB_s1hDKSyb"
      }
    },
    {
      "cell_type": "markdown",
      "source": [
        "1. El primer algoritmo usando un modelo de random forest con un vectorizador de recuento (CountVectorizer) clasifico el 77.50% bien los tweets, de acuerdo a su accuracy. \n",
        "\n",
        "2. El segundo algoritmo usando un modelo de Random Forest con un vectorizador de recuento (CountVectorizer) incorpora la eiminación de stop words y a pesar de ello el accuracy no mejora y por el contrario disminuye ligeramente al 76.17%; de acuerdo al análisis exploratorio es probable que la eliminación de stop words pudieron borrar algunas palabras y afectar la predicción del modelo.\n",
        "\n",
        "3. El tercer algoritmo usando RandomForest y un preprocesamiento de texto que se enfoca en la lematización de verbos, obtuvo un accuracy de 0.7644, sin presentar mejoras con respecto al primer algoritmo y sí ligeramente frente al segundo; esto puede ser explicado porque este tipo de modelos al reducir las palabras a su forma base tambien mejoran la predicción.\n",
        "\n",
        "4. El último algoritmo empleado, RandomForest y un preprocesamiento de texto que se enfoca en la lematización de verbos y en la eliminación de las palabras vacías (stop words), no mostro el mejor desempeño al obtener un accuracy de 0.7622, a pesar que reducir las palabras a su forma base y eliminar stop words puede mejorar la predicción de los algoritmos.\n",
        "\n",
        "De estos cuatro enfoques, el primer algoritmo, que empleó solo un vectorizador de recuento (CountVectorizer), tuvo el mejor desempeño en términos de precisión en la clasificación de los tweets. Los otros tres algoritmos no mostraron mejoras significativas con respecto al primero, a pesar de utilizar diferentes técnicas de preprocesamiento de texto\n"
      ],
      "metadata": {
        "id": "mTc5mnTNMWoV"
      }
    }
  ],
  "metadata": {
    "kernelspec": {
      "display_name": "Python 3",
      "language": "python",
      "name": "python3"
    },
    "language_info": {
      "codemirror_mode": {
        "name": "ipython",
        "version": 3
      },
      "file_extension": ".py",
      "mimetype": "text/x-python",
      "name": "python",
      "nbconvert_exporter": "python",
      "pygments_lexer": "ipython3",
      "version": "3.8.8"
    },
    "colab": {
      "provenance": []
    }
  },
  "nbformat": 4,
  "nbformat_minor": 0
}